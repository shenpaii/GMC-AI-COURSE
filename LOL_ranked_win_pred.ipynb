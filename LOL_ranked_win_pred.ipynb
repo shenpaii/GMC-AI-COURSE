{
 "cells": [
  {
   "cell_type": "markdown",
   "metadata": {},
   "source": [
    "# Insights\n"
   ]
  },
  {
   "cell_type": "markdown",
   "metadata": {},
   "source": [
    "#### Introduction \n",
    "\n",
    "Released on October 27, 2009, League of Legends (LoL) is a multiplayer online battle arena video game developed and published by Riot Games for Microsoft Windows and macOS. \n",
    "\n",
    "LOL is a complex game where 5 players of the blue team are fighting 5 players of the red team in a cruel match.\n",
    "\n",
    "Each team works together to achieve victory either by destroying the enemy team's Nexus, after bypassing a line of defensive structures called turrets or towers, or by forcing the enemy team to surrender through a vote."
   ]
  },
  {
   "cell_type": "markdown",
   "metadata": {},
   "source": [
    "With that being said, the dataset used in this project contains the early game (first 10mins of the game) stats of approx. 10k high ELO ranked games."
   ]
  },
  {
   "cell_type": "markdown",
   "metadata": {},
   "source": [
    "\n",
    "#### Dataset columns\n",
    "\n",
    "blueWins: Blue Team wins or loses\n",
    "\n",
    "WardsPlaced: Number of warding totems placed by the team on the map\n",
    "\n",
    "WardsDestroyed : Number of enemy warding totems the team has destroyed\n",
    "\n",
    "FirstBlood: First kill of the game. 1 if the team got the first kill, 0 if not\n",
    "\n",
    "Kills: Number of enemies killed by the team\n",
    "\n",
    "Deaths: Number of deaths\n",
    "\n",
    "Assists: Number of kill assists\n",
    "\n",
    "EliteMonsters: Number of elite monsters killed by the team (Dragons and Heralds)\n",
    "\n",
    "Dragons: Number of dragons killed by the team\n",
    "\n",
    "Heralds : Number of heralds killed by the team\n",
    "\n",
    "TowersDestroyed: Number of structures destroyed by the team\n",
    "\n",
    "TotalGold: Team total gold\n",
    "\n",
    "AvgLevel: Team average champion level\n",
    "\n",
    "TotalExperience: Team total experience\n",
    "\n",
    "TotalMinionsKilled: Team total minions killed (CS)\n",
    "\n",
    "TotalJungleMinionsKilled: Team total jungle monsters killed\n",
    "\n",
    "GoldDiff: Team gold difference compared to the enemy team\n",
    "\n",
    "ExperienceDiff: Team experience difference compared to the enemy team\n",
    "\n",
    "CSPerMin: Team CS (minions) per minute\n",
    "\n",
    "GoldPerMin: Team gold per min"
   ]
  },
  {
   "cell_type": "markdown",
   "metadata": {},
   "source": [
    "#### Objective \n",
    "\n",
    "The aim of this project is to train and test several classification algorithms and choose the best one to be used to predict the outcome of a match based solely on the early game stats."
   ]
  },
  {
   "cell_type": "markdown",
   "metadata": {},
   "source": [
    "# Imports"
   ]
  },
  {
   "cell_type": "code",
   "execution_count": 1,
   "metadata": {},
   "outputs": [],
   "source": [
    "#Data loading and visualization imports\n",
    "\n",
    "import pandas as pd\n",
    "import matplotlib.pyplot as plt\n",
    "import matplotlib as mplt\n",
    "import seaborn as sns\n",
    "%matplotlib inline\n",
    "\n",
    "#Machine learning imports\n",
    "\n",
    "from sklearn.preprocessing import MinMaxScaler, StandardScaler\n",
    "from sklearn.model_selection import train_test_split, cross_val_score, GridSearchCV\n",
    "from sklearn.linear_model import LogisticRegression\n",
    "from sklearn.metrics import accuracy_score, f1_score\n",
    "from sklearn.tree import DecisionTreeClassifier, plot_tree\n",
    "from sklearn.ensemble import RandomForestClassifier\n",
    "from sklearn.neighbors import KNeighborsClassifier\n"
   ]
  },
  {
   "cell_type": "markdown",
   "metadata": {},
   "source": [
    "# Loading data"
   ]
  },
  {
   "cell_type": "code",
   "execution_count": 2,
   "metadata": {},
   "outputs": [
    {
     "data": {
      "text/html": [
       "<div>\n",
       "<style scoped>\n",
       "    .dataframe tbody tr th:only-of-type {\n",
       "        vertical-align: middle;\n",
       "    }\n",
       "\n",
       "    .dataframe tbody tr th {\n",
       "        vertical-align: top;\n",
       "    }\n",
       "\n",
       "    .dataframe thead th {\n",
       "        text-align: right;\n",
       "    }\n",
       "</style>\n",
       "<table border=\"1\" class=\"dataframe\">\n",
       "  <thead>\n",
       "    <tr style=\"text-align: right;\">\n",
       "      <th></th>\n",
       "      <th>gameId</th>\n",
       "      <th>blueWins</th>\n",
       "      <th>blueWardsPlaced</th>\n",
       "      <th>blueWardsDestroyed</th>\n",
       "      <th>blueFirstBlood</th>\n",
       "      <th>blueKills</th>\n",
       "      <th>blueDeaths</th>\n",
       "      <th>blueAssists</th>\n",
       "      <th>blueEliteMonsters</th>\n",
       "      <th>blueDragons</th>\n",
       "      <th>...</th>\n",
       "      <th>redTowersDestroyed</th>\n",
       "      <th>redTotalGold</th>\n",
       "      <th>redAvgLevel</th>\n",
       "      <th>redTotalExperience</th>\n",
       "      <th>redTotalMinionsKilled</th>\n",
       "      <th>redTotalJungleMinionsKilled</th>\n",
       "      <th>redGoldDiff</th>\n",
       "      <th>redExperienceDiff</th>\n",
       "      <th>redCSPerMin</th>\n",
       "      <th>redGoldPerMin</th>\n",
       "    </tr>\n",
       "  </thead>\n",
       "  <tbody>\n",
       "    <tr>\n",
       "      <th>0</th>\n",
       "      <td>4519157822</td>\n",
       "      <td>0</td>\n",
       "      <td>28</td>\n",
       "      <td>2</td>\n",
       "      <td>1</td>\n",
       "      <td>9</td>\n",
       "      <td>6</td>\n",
       "      <td>11</td>\n",
       "      <td>0</td>\n",
       "      <td>0</td>\n",
       "      <td>...</td>\n",
       "      <td>0</td>\n",
       "      <td>16567</td>\n",
       "      <td>6.8</td>\n",
       "      <td>17047</td>\n",
       "      <td>197</td>\n",
       "      <td>55</td>\n",
       "      <td>-643</td>\n",
       "      <td>8</td>\n",
       "      <td>19.7</td>\n",
       "      <td>1656.7</td>\n",
       "    </tr>\n",
       "    <tr>\n",
       "      <th>1</th>\n",
       "      <td>4523371949</td>\n",
       "      <td>0</td>\n",
       "      <td>12</td>\n",
       "      <td>1</td>\n",
       "      <td>0</td>\n",
       "      <td>5</td>\n",
       "      <td>5</td>\n",
       "      <td>5</td>\n",
       "      <td>0</td>\n",
       "      <td>0</td>\n",
       "      <td>...</td>\n",
       "      <td>1</td>\n",
       "      <td>17620</td>\n",
       "      <td>6.8</td>\n",
       "      <td>17438</td>\n",
       "      <td>240</td>\n",
       "      <td>52</td>\n",
       "      <td>2908</td>\n",
       "      <td>1173</td>\n",
       "      <td>24.0</td>\n",
       "      <td>1762.0</td>\n",
       "    </tr>\n",
       "    <tr>\n",
       "      <th>2</th>\n",
       "      <td>4521474530</td>\n",
       "      <td>0</td>\n",
       "      <td>15</td>\n",
       "      <td>0</td>\n",
       "      <td>0</td>\n",
       "      <td>7</td>\n",
       "      <td>11</td>\n",
       "      <td>4</td>\n",
       "      <td>1</td>\n",
       "      <td>1</td>\n",
       "      <td>...</td>\n",
       "      <td>0</td>\n",
       "      <td>17285</td>\n",
       "      <td>6.8</td>\n",
       "      <td>17254</td>\n",
       "      <td>203</td>\n",
       "      <td>28</td>\n",
       "      <td>1172</td>\n",
       "      <td>1033</td>\n",
       "      <td>20.3</td>\n",
       "      <td>1728.5</td>\n",
       "    </tr>\n",
       "    <tr>\n",
       "      <th>3</th>\n",
       "      <td>4524384067</td>\n",
       "      <td>0</td>\n",
       "      <td>43</td>\n",
       "      <td>1</td>\n",
       "      <td>0</td>\n",
       "      <td>4</td>\n",
       "      <td>5</td>\n",
       "      <td>5</td>\n",
       "      <td>1</td>\n",
       "      <td>0</td>\n",
       "      <td>...</td>\n",
       "      <td>0</td>\n",
       "      <td>16478</td>\n",
       "      <td>7.0</td>\n",
       "      <td>17961</td>\n",
       "      <td>235</td>\n",
       "      <td>47</td>\n",
       "      <td>1321</td>\n",
       "      <td>7</td>\n",
       "      <td>23.5</td>\n",
       "      <td>1647.8</td>\n",
       "    </tr>\n",
       "    <tr>\n",
       "      <th>4</th>\n",
       "      <td>4436033771</td>\n",
       "      <td>0</td>\n",
       "      <td>75</td>\n",
       "      <td>4</td>\n",
       "      <td>0</td>\n",
       "      <td>6</td>\n",
       "      <td>6</td>\n",
       "      <td>6</td>\n",
       "      <td>0</td>\n",
       "      <td>0</td>\n",
       "      <td>...</td>\n",
       "      <td>0</td>\n",
       "      <td>17404</td>\n",
       "      <td>7.0</td>\n",
       "      <td>18313</td>\n",
       "      <td>225</td>\n",
       "      <td>67</td>\n",
       "      <td>1004</td>\n",
       "      <td>-230</td>\n",
       "      <td>22.5</td>\n",
       "      <td>1740.4</td>\n",
       "    </tr>\n",
       "  </tbody>\n",
       "</table>\n",
       "<p>5 rows × 40 columns</p>\n",
       "</div>"
      ],
      "text/plain": [
       "       gameId  blueWins  blueWardsPlaced  blueWardsDestroyed  blueFirstBlood  \\\n",
       "0  4519157822         0               28                   2               1   \n",
       "1  4523371949         0               12                   1               0   \n",
       "2  4521474530         0               15                   0               0   \n",
       "3  4524384067         0               43                   1               0   \n",
       "4  4436033771         0               75                   4               0   \n",
       "\n",
       "   blueKills  blueDeaths  blueAssists  blueEliteMonsters  blueDragons  ...  \\\n",
       "0          9           6           11                  0            0  ...   \n",
       "1          5           5            5                  0            0  ...   \n",
       "2          7          11            4                  1            1  ...   \n",
       "3          4           5            5                  1            0  ...   \n",
       "4          6           6            6                  0            0  ...   \n",
       "\n",
       "   redTowersDestroyed  redTotalGold  redAvgLevel  redTotalExperience  \\\n",
       "0                   0         16567          6.8               17047   \n",
       "1                   1         17620          6.8               17438   \n",
       "2                   0         17285          6.8               17254   \n",
       "3                   0         16478          7.0               17961   \n",
       "4                   0         17404          7.0               18313   \n",
       "\n",
       "   redTotalMinionsKilled  redTotalJungleMinionsKilled  redGoldDiff  \\\n",
       "0                    197                           55         -643   \n",
       "1                    240                           52         2908   \n",
       "2                    203                           28         1172   \n",
       "3                    235                           47         1321   \n",
       "4                    225                           67         1004   \n",
       "\n",
       "   redExperienceDiff  redCSPerMin  redGoldPerMin  \n",
       "0                  8         19.7         1656.7  \n",
       "1               1173         24.0         1762.0  \n",
       "2               1033         20.3         1728.5  \n",
       "3                  7         23.5         1647.8  \n",
       "4               -230         22.5         1740.4  \n",
       "\n",
       "[5 rows x 40 columns]"
      ]
     },
     "execution_count": 2,
     "metadata": {},
     "output_type": "execute_result"
    }
   ],
   "source": [
    "lol_df = pd.read_csv('high_diamond_ranked_10min.csv')\n",
    "\n",
    "lol_df.head()"
   ]
  },
  {
   "cell_type": "markdown",
   "metadata": {},
   "source": [
    "# Data pre-processing"
   ]
  },
  {
   "cell_type": "code",
   "execution_count": 3,
   "metadata": {
    "scrolled": false
   },
   "outputs": [
    {
     "name": "stdout",
     "output_type": "stream",
     "text": [
      "<class 'pandas.core.frame.DataFrame'>\n",
      "RangeIndex: 9879 entries, 0 to 9878\n",
      "Data columns (total 40 columns):\n",
      " #   Column                        Non-Null Count  Dtype  \n",
      "---  ------                        --------------  -----  \n",
      " 0   gameId                        9879 non-null   int64  \n",
      " 1   blueWins                      9879 non-null   int64  \n",
      " 2   blueWardsPlaced               9879 non-null   int64  \n",
      " 3   blueWardsDestroyed            9879 non-null   int64  \n",
      " 4   blueFirstBlood                9879 non-null   int64  \n",
      " 5   blueKills                     9879 non-null   int64  \n",
      " 6   blueDeaths                    9879 non-null   int64  \n",
      " 7   blueAssists                   9879 non-null   int64  \n",
      " 8   blueEliteMonsters             9879 non-null   int64  \n",
      " 9   blueDragons                   9879 non-null   int64  \n",
      " 10  blueHeralds                   9879 non-null   int64  \n",
      " 11  blueTowersDestroyed           9879 non-null   int64  \n",
      " 12  blueTotalGold                 9879 non-null   int64  \n",
      " 13  blueAvgLevel                  9879 non-null   float64\n",
      " 14  blueTotalExperience           9879 non-null   int64  \n",
      " 15  blueTotalMinionsKilled        9879 non-null   int64  \n",
      " 16  blueTotalJungleMinionsKilled  9879 non-null   int64  \n",
      " 17  blueGoldDiff                  9879 non-null   int64  \n",
      " 18  blueExperienceDiff            9879 non-null   int64  \n",
      " 19  blueCSPerMin                  9879 non-null   float64\n",
      " 20  blueGoldPerMin                9879 non-null   float64\n",
      " 21  redWardsPlaced                9879 non-null   int64  \n",
      " 22  redWardsDestroyed             9879 non-null   int64  \n",
      " 23  redFirstBlood                 9879 non-null   int64  \n",
      " 24  redKills                      9879 non-null   int64  \n",
      " 25  redDeaths                     9879 non-null   int64  \n",
      " 26  redAssists                    9879 non-null   int64  \n",
      " 27  redEliteMonsters              9879 non-null   int64  \n",
      " 28  redDragons                    9879 non-null   int64  \n",
      " 29  redHeralds                    9879 non-null   int64  \n",
      " 30  redTowersDestroyed            9879 non-null   int64  \n",
      " 31  redTotalGold                  9879 non-null   int64  \n",
      " 32  redAvgLevel                   9879 non-null   float64\n",
      " 33  redTotalExperience            9879 non-null   int64  \n",
      " 34  redTotalMinionsKilled         9879 non-null   int64  \n",
      " 35  redTotalJungleMinionsKilled   9879 non-null   int64  \n",
      " 36  redGoldDiff                   9879 non-null   int64  \n",
      " 37  redExperienceDiff             9879 non-null   int64  \n",
      " 38  redCSPerMin                   9879 non-null   float64\n",
      " 39  redGoldPerMin                 9879 non-null   float64\n",
      "dtypes: float64(6), int64(34)\n",
      "memory usage: 3.0 MB\n"
     ]
    }
   ],
   "source": [
    "# General informations\n",
    "\n",
    "lol_df.info()"
   ]
  },
  {
   "cell_type": "markdown",
   "metadata": {},
   "source": [
    "The dataset contains 9879 entries (matches) with a total of 40 columns providing both red and blue team stats. In addition to a target column \"blueWins\" that determines which of one of the teams actually ended up winning.\n",
    "\n",
    "##### Note:\n",
    "All features values seem to be numerical (floats or ints) so it is safe to assume that feature transformation step can be skipped"
   ]
  },
  {
   "cell_type": "code",
   "execution_count": 4,
   "metadata": {},
   "outputs": [
    {
     "data": {
      "text/plain": [
       "0"
      ]
     },
     "execution_count": 4,
     "metadata": {},
     "output_type": "execute_result"
    }
   ],
   "source": [
    "# Looking for missing values\n",
    "\n",
    "lol_df.isnull().sum().sum()"
   ]
  },
  {
   "cell_type": "markdown",
   "metadata": {},
   "source": [
    "Data contains no missing values"
   ]
  },
  {
   "cell_type": "code",
   "execution_count": 5,
   "metadata": {},
   "outputs": [],
   "source": [
    "# Dropping gameId column \n",
    "\n",
    "lol_df.drop( labels = ['gameId',], axis = 1, inplace = True)"
   ]
  },
  {
   "cell_type": "code",
   "execution_count": 6,
   "metadata": {},
   "outputs": [],
   "source": [
    "# Spliting blue team and red team stats\n",
    "\n",
    "bt_stats = lol_df.iloc[:, 0:20]\n",
    "\n",
    "rt_stats = lol_df.iloc[:, 20:]"
   ]
  },
  {
   "cell_type": "markdown",
   "metadata": {},
   "source": [
    "#### For the rest of the work  we will focus only on visualising the blue team stats and building a prediction model for the blue team since predicting a team's win/loss is predicting the other team's win/loss as well."
   ]
  },
  {
   "cell_type": "markdown",
   "metadata": {},
   "source": [
    "# Data visualisation"
   ]
  },
  {
   "cell_type": "markdown",
   "metadata": {},
   "source": [
    "The purpose of this part is to get a grasp on the different relations between a team's win/loss and the stats contributing to that particular outcome"
   ]
  },
  {
   "cell_type": "code",
   "execution_count": 7,
   "metadata": {
    "scrolled": true
   },
   "outputs": [
    {
     "data": {
      "text/plain": [
       "<matplotlib.legend.Legend at 0x78eda2ab20>"
      ]
     },
     "execution_count": 7,
     "metadata": {},
     "output_type": "execute_result"
    },
    {
     "data": {
      "image/png": "[encoded data removed]",
      "text/plain": [
       "<Figure size 720x360 with 1 Axes>"
      ]
     },
     "metadata": {},
     "output_type": "display_data"
    }
   ],
   "source": [
    "# win/loss distribution\n",
    "\n",
    "plt.figure(figsize = (10,5))\n",
    "plt.title('Blue team win/loss distribution')\n",
    "#sns.countplot(lol_df.blueWins, palette = ['r', 'g'])\n",
    "lol_df.blueWins.value_counts().plot.pie( colors = ['r', 'g'], autopct = \"%1.1f%%\", explode = (0, 0.1), \n",
    "                                           shadow = True, startangle = 90 )\n",
    "plt.legend(bbox_to_anchor = (1.05, 1), loc = \"upper left\", borderaxespad = 0.,handles = [mplt.patches.Patch(color = \"r\", label = 'Lost'),mplt.patches.Patch(color = \"g\",label = 'Won')])\n"
   ]
  },
  {
   "cell_type": "markdown",
   "metadata": {},
   "source": [
    "The dataset is well balanced and we almost have the same number of won and lost games."
   ]
  },
  {
   "cell_type": "markdown",
   "metadata": {},
   "source": [
    "The factors that have the highest impact on the game outcome are gold difference, experience/levels difference and epic monsters killed."
   ]
  },
  {
   "cell_type": "markdown",
   "metadata": {},
   "source": [
    "### Gold difference"
   ]
  },
  {
   "cell_type": "code",
   "execution_count": 8,
   "metadata": {},
   "outputs": [
    {
     "data": {
      "text/plain": [
       "<matplotlib.axes._subplots.AxesSubplot at 0x78ea950e20>"
      ]
     },
     "execution_count": 8,
     "metadata": {},
     "output_type": "execute_result"
    },
    {
     "data": {
      "image/png": "[encoded data removed]",
      "text/plain": [
       "<Figure size 1080x720 with 1 Axes>"
      ]
     },
     "metadata": {
      "needs_background": "light"
     },
     "output_type": "display_data"
    }
   ],
   "source": [
    "\n",
    "bt_stats['blueGoldDiffBins'] = pd.qcut(bt_stats['blueGoldDiff'], q = 5, duplicates='drop')\n",
    "\n",
    "win_prob = bt_stats.groupby('blueGoldDiffBins')['blueWins'].mean()\n",
    "win_prob = win_prob.reset_index()\n",
    "win_prob.columns = ['Gold diff', 'win prob']\n",
    "\n",
    "plt.figure(figsize = (15,10))\n",
    "sns.barplot(x = 'Gold diff', y = 'win prob', data = win_prob)"
   ]
  },
  {
   "cell_type": "markdown",
   "metadata": {},
   "source": [
    "The higher the gold difference, the better the probability of winning. This is due to the fact that gold is the most important resource in the game and the team with the higher gold income will generally have better items thus will be stronger than opposing team"
   ]
  },
  {
   "cell_type": "markdown",
   "metadata": {},
   "source": [
    "\n",
    "While gold difference is a standalone feature, it's actually the aggregation of multiple sub-factors. We'll try to visualize some of them\n"
   ]
  },
  {
   "cell_type": "markdown",
   "metadata": {},
   "source": [
    "#### First blood"
   ]
  },
  {
   "cell_type": "code",
   "execution_count": 9,
   "metadata": {},
   "outputs": [
    {
     "data": {
      "text/plain": [
       "<matplotlib.axes._subplots.AxesSubplot at 0x78ea9639d0>"
      ]
     },
     "execution_count": 9,
     "metadata": {},
     "output_type": "execute_result"
    },
    {
     "data": {
      "image/png": "[encoded data removed]",
      "text/plain": [
       "<Figure size 1080x720 with 1 Axes>"
      ]
     },
     "metadata": {
      "needs_background": "light"
     },
     "output_type": "display_data"
    }
   ],
   "source": [
    "\n",
    "\n",
    "win_prob = bt_stats.groupby('blueFirstBlood')['blueWins'].mean()\n",
    "win_prob = win_prob.reset_index()\n",
    "win_prob.columns = ['First blood', 'win prob']\n",
    "\n",
    "plt.figure(figsize = (15,10))\n",
    "sns.barplot(x = 'First blood', y = 'win prob', data = win_prob)"
   ]
  },
  {
   "cell_type": "markdown",
   "metadata": {},
   "source": [
    "Obviously, the team has a better chance of winning when they get first blood due to the extras gold and exp won as a reward."
   ]
  },
  {
   "cell_type": "markdown",
   "metadata": {},
   "source": [
    "#### Kills/Deaths\n",
    "The number of kills itself is not as important as the difference in kills between the two teams."
   ]
  },
  {
   "cell_type": "code",
   "execution_count": 10,
   "metadata": {},
   "outputs": [
    {
     "data": {
      "text/plain": [
       "<matplotlib.axes._subplots.AxesSubplot at 0x78ea9632e0>"
      ]
     },
     "execution_count": 10,
     "metadata": {},
     "output_type": "execute_result"
    },
    {
     "data": {
      "image/png": "[encoded data removed]",
      "text/plain": [
       "<Figure size 1080x720 with 1 Axes>"
      ]
     },
     "metadata": {
      "needs_background": "light"
     },
     "output_type": "display_data"
    }
   ],
   "source": [
    "bt_stats['blueKillsDiff'] = bt_stats['blueKills'] - rt_stats['redKills']\n",
    "\n",
    "\n",
    "win_prob = bt_stats.groupby('blueKillsDiff')['blueWins'].mean()\n",
    "win_prob = win_prob.reset_index()\n",
    "win_prob.columns = ['Kills diff', 'win prob']\n",
    "\n",
    "plt.figure(figsize = (15,10))\n",
    "sns.barplot(x = 'Kills diff', y = 'win prob', data = win_prob)"
   ]
  },
  {
   "cell_type": "markdown",
   "metadata": {},
   "source": [
    "As we can see, the larger the difference in kills in favor of a team the better its chance of winning. For instance a 5+ diff in kills guarantees the blue team 80+% probability of winning."
   ]
  },
  {
   "cell_type": "markdown",
   "metadata": {},
   "source": [
    "As for difference in deaths it has the exact opposite effect on winning, since a kill for a team is counted as a death for the opposing one. In other words, if larger diffrences in kills give higher winning probabilities, smaller diffrences in deaths will have the same effect as shown below."
   ]
  },
  {
   "cell_type": "code",
   "execution_count": 11,
   "metadata": {},
   "outputs": [
    {
     "data": {
      "text/plain": [
       "<matplotlib.axes._subplots.AxesSubplot at 0x78ea84beb0>"
      ]
     },
     "execution_count": 11,
     "metadata": {},
     "output_type": "execute_result"
    },
    {
     "data": {
      "image/png": "[encoded data removed]",
      "text/plain": [
       "<Figure size 1080x720 with 1 Axes>"
      ]
     },
     "metadata": {
      "needs_background": "light"
     },
     "output_type": "display_data"
    }
   ],
   "source": [
    "bt_stats['blueDeathsDiff'] = bt_stats['blueDeaths'] - rt_stats['redDeaths']\n",
    "\n",
    "\n",
    "win_prob = bt_stats.groupby('blueDeathsDiff')['blueWins'].mean()\n",
    "win_prob = win_prob.reset_index()\n",
    "win_prob.columns = ['Deaths diff', 'win prob']\n",
    "\n",
    "plt.figure(figsize = (15,10))\n",
    "sns.barplot(x = 'Deaths diff', y = 'win prob', data = win_prob)"
   ]
  },
  {
   "cell_type": "markdown",
   "metadata": {},
   "source": [
    "#### CS/min\n",
    "The farming mechanism in League of Legends rewards players with gold and exp for successfully last hitting creeps (minions and monsters). Each last hit is counted in the player's CS basically quantifying how much gold he got from farming. As we did for kills we will be more interested in studying CS difference between the two teams."
   ]
  },
  {
   "cell_type": "code",
   "execution_count": 12,
   "metadata": {},
   "outputs": [
    {
     "data": {
      "text/plain": [
       "<matplotlib.axes._subplots.AxesSubplot at 0x78fee8c6d0>"
      ]
     },
     "execution_count": 12,
     "metadata": {},
     "output_type": "execute_result"
    },
    {
     "data": {
      "image/png": "[encoded data removed]",
      "text/plain": [
       "<Figure size 1080x720 with 1 Axes>"
      ]
     },
     "metadata": {
      "needs_background": "light"
     },
     "output_type": "display_data"
    }
   ],
   "source": [
    "bt_stats['blueCSDiff'] = bt_stats['blueCSPerMin'] - rt_stats['redCSPerMin']\n",
    "bt_stats['blueCSDiffBins'] = pd.qcut(bt_stats['blueCSDiff'], q = 5, duplicates='drop')\n",
    "\n",
    "win_prob = bt_stats.groupby('blueCSDiffBins')['blueWins'].mean()\n",
    "win_prob = win_prob.reset_index()\n",
    "win_prob.columns = ['CS/min diff', 'win prob']\n",
    "\n",
    "plt.figure(figsize = (15,10))\n",
    "sns.barplot(x = 'CS/min diff', y = 'win prob', data = win_prob)"
   ]
  },
  {
   "cell_type": "markdown",
   "metadata": {},
   "source": [
    "The larger the difference in income, the higher the chance of winning confirming that more gold = stronger probability to win."
   ]
  },
  {
   "cell_type": "markdown",
   "metadata": {},
   "source": [
    "## Experience diff / Average level\n",
    "These two are strongly related and interchangeable since, for a player to level up, he needs to gain a certain amount of exp points. Upon leveling up, the player unlocks new abilities or upgrade previously unlocked ones and also gets more HP."
   ]
  },
  {
   "cell_type": "code",
   "execution_count": 13,
   "metadata": {},
   "outputs": [
    {
     "data": {
      "text/plain": [
       "<matplotlib.axes._subplots.AxesSubplot at 0x78ea9e6c40>"
      ]
     },
     "execution_count": 13,
     "metadata": {},
     "output_type": "execute_result"
    },
    {
     "data": {
      "image/png": "[encoded data removed]",
      "text/plain": [
       "<Figure size 1080x720 with 1 Axes>"
      ]
     },
     "metadata": {
      "needs_background": "light"
     },
     "output_type": "display_data"
    }
   ],
   "source": [
    "\n",
    "bt_stats['blueExperienceDiffBins'] = pd.qcut(bt_stats['blueExperienceDiff'], q = 5, duplicates='drop')\n",
    "\n",
    "win_prob = bt_stats.groupby('blueExperienceDiffBins')['blueWins'].mean()\n",
    "win_prob = win_prob.reset_index()\n",
    "win_prob.columns = ['Exp diff', 'win prob']\n",
    "\n",
    "plt.figure(figsize = (15,10))\n",
    "sns.barplot(x = 'Exp diff', y = 'win prob', data = win_prob)"
   ]
  },
  {
   "cell_type": "code",
   "execution_count": 14,
   "metadata": {},
   "outputs": [
    {
     "data": {
      "text/plain": [
       "<matplotlib.axes._subplots.AxesSubplot at 0x78ea6b0be0>"
      ]
     },
     "execution_count": 14,
     "metadata": {},
     "output_type": "execute_result"
    },
    {
     "data": {
      "image/png": "[encoded data removed]",
      "text/plain": [
       "<Figure size 1080x720 with 1 Axes>"
      ]
     },
     "metadata": {
      "needs_background": "light"
     },
     "output_type": "display_data"
    }
   ],
   "source": [
    "bt_stats['blueAvgLevelDiff'] = bt_stats['blueAvgLevel'] - rt_stats['redAvgLevel']\n",
    "bt_stats['blueAvgLevelDiffBins'] = pd.qcut(bt_stats['blueAvgLevelDiff'], q = 5, duplicates='drop')\n",
    "\n",
    "win_prob = bt_stats.groupby('blueAvgLevelDiffBins')['blueWins'].mean()\n",
    "win_prob = win_prob.reset_index()\n",
    "win_prob.columns = ['Average team level difference', 'win prob']\n",
    "\n",
    "plt.figure(figsize = (15,10))\n",
    "sns.barplot(x = 'Average team level difference', y = 'win prob', data = win_prob)"
   ]
  },
  {
   "cell_type": "markdown",
   "metadata": {},
   "source": [
    "Exp and levels give an edge, to the team that's ahead, over the opposing team boosting their chances to win."
   ]
  },
  {
   "cell_type": "markdown",
   "metadata": {},
   "source": [
    "## Epic monsters\n",
    "Epic monsters are rift heralds and dragons. They are considered as neutral objectives and killing them will give the slaying team bonus stats and/or buffs."
   ]
  },
  {
   "cell_type": "code",
   "execution_count": 15,
   "metadata": {
    "scrolled": true
   },
   "outputs": [
    {
     "data": {
      "text/plain": [
       "<matplotlib.axes._subplots.AxesSubplot at 0x78ea7e0610>"
      ]
     },
     "execution_count": 15,
     "metadata": {},
     "output_type": "execute_result"
    },
    {
     "data": {
      "image/png": "[encoded data removed]",
      "text/plain": [
       "<Figure size 1080x720 with 1 Axes>"
      ]
     },
     "metadata": {
      "needs_background": "light"
     },
     "output_type": "display_data"
    }
   ],
   "source": [
    "bt_stats['blueEliteMonstersDiff'] = bt_stats['blueEliteMonsters'] - rt_stats['redEliteMonsters']\n",
    "#bt_stats['blueAvgLevelDiffBins'] = pd.qcut(bt_stats['blueAvgLevelDiff'], q = 5, duplicates='drop')\n",
    "\n",
    "win_prob = bt_stats.groupby('blueEliteMonstersDiff')['blueWins'].mean()\n",
    "win_prob = win_prob.reset_index()\n",
    "win_prob.columns = ['Epic monsters kills difference', 'win prob']\n",
    "\n",
    "plt.figure(figsize = (15,10))\n",
    "sns.barplot(x = 'Epic monsters kills difference', y = 'win prob', data = win_prob)"
   ]
  },
  {
   "cell_type": "markdown",
   "metadata": {},
   "source": [
    "Since we are studying the early game phase, only 2 epic monsters spawn during this time. That's why the difference ranges between 2 and -2.\n",
    "Observing the graph, we see that securing at least one objective will increase the win chances significantly."
   ]
  },
  {
   "cell_type": "markdown",
   "metadata": {},
   "source": [
    "The dataset contains plenty of other features influencing teams wins/losses but they're either derived from or leading to the ones mentioned above which means that they'll have a similar impact on the outcome so visualizing them is unnecessary."
   ]
  },
  {
   "cell_type": "markdown",
   "metadata": {},
   "source": [
    "# Machine learning"
   ]
  },
  {
   "cell_type": "markdown",
   "metadata": {},
   "source": [
    "In this part we'll try different machine learning algorithms, measure their prediction accuracy and f1-score, and then choose which one best fits our data.\n",
    "We'll be using supervised machine learning algorithms, classification algorithms to be exact, because our data is labeled and the target value has a binary output."
   ]
  },
  {
   "cell_type": "markdown",
   "metadata": {},
   "source": [
    "#### Feature scaling and spliting data"
   ]
  },
  {
   "cell_type": "code",
   "execution_count": 16,
   "metadata": {},
   "outputs": [],
   "source": [
    "x = bt_stats.iloc[:, 1:20]\n",
    "y = bt_stats.iloc[:,0]\n",
    "\n",
    "sc = StandardScaler()\n",
    "sc.fit(x)\n",
    "x = sc.transform(x)\n",
    "\n",
    "\n"
   ]
  },
  {
   "cell_type": "markdown",
   "metadata": {},
   "source": [
    "#### Logistic regression"
   ]
  },
  {
   "cell_type": "code",
   "execution_count": 17,
   "metadata": {},
   "outputs": [],
   "source": [
    "logreg = LogisticRegression()\n"
   ]
  },
  {
   "cell_type": "markdown",
   "metadata": {},
   "source": [
    "##### Decision tree classifier"
   ]
  },
  {
   "cell_type": "code",
   "execution_count": 18,
   "metadata": {},
   "outputs": [],
   "source": [
    "\n",
    "\n",
    "dtree = DecisionTreeClassifier(\n",
    "splitter = 'random', \n",
    "min_samples_split = 5, \n",
    "max_leaf_nodes = 20, max_depth = 20)\n",
    "\n",
    "\n",
    "\n"
   ]
  },
  {
   "cell_type": "markdown",
   "metadata": {},
   "source": [
    "#### Random forest classifier"
   ]
  },
  {
   "cell_type": "code",
   "execution_count": 19,
   "metadata": {
    "scrolled": false
   },
   "outputs": [],
   "source": [
    "\n",
    "\n",
    "rf = RandomForestClassifier(n_estimators = 50)\n",
    "\n",
    "\n",
    "\n",
    "\n",
    "\n",
    "\n"
   ]
  },
  {
   "cell_type": "markdown",
   "metadata": {},
   "source": [
    "# after tweaking number of estimators and getting the best result\n",
    "\n",
    "args = {'n_estimators' : range(50,200,50),\n",
    "        'max_depth' : range (2,10,2)\n",
    "        }\n",
    "\n",
    "gscv_rf = GridSearchCV(rf, args, cv = 10)\n",
    "\n",
    "gscv_rf.fit(x_train, y_train)\n",
    "rf_pred = gscv_rf.predict(x_test)\n",
    "\n",
    "print(f'Accuracy = {round(accuracy_score(rf_pred, y_test),3)}')\n",
    "print(f'F-1 score = {round(f1(y_test, rf_pred),3)}')"
   ]
  },
  {
   "cell_type": "markdown",
   "metadata": {},
   "source": [
    "Tweaks improved model's accuracy."
   ]
  },
  {
   "cell_type": "markdown",
   "metadata": {},
   "source": [
    "#### KNN classifier"
   ]
  },
  {
   "cell_type": "code",
   "execution_count": 20,
   "metadata": {},
   "outputs": [],
   "source": [
    "knn = KNeighborsClassifier()\n",
    "\n",
    "\n",
    "\n",
    "\n"
   ]
  },
  {
   "cell_type": "markdown",
   "metadata": {},
   "source": [
    "Cross validation check to determine the best model "
   ]
  },
  {
   "cell_type": "code",
   "execution_count": 21,
   "metadata": {},
   "outputs": [
    {
     "name": "stdout",
     "output_type": "stream",
     "text": [
      "Accuracy = 0.73\n",
      "F-1 score = 0.73\n"
     ]
    }
   ],
   "source": [
    "scores = cross_val_score(logreg, x, y, cv = 10)\n",
    "f1_scores = cross_val_score(logreg, x, y, scoring = 'f1', cv = 10)\n",
    "\n",
    "print(f'Accuracy = {round(scores.mean(),3)}')\n",
    "print(f'F-1 score = {round(f1_scores.mean(),3)}')"
   ]
  },
  {
   "cell_type": "code",
   "execution_count": 22,
   "metadata": {},
   "outputs": [
    {
     "name": "stdout",
     "output_type": "stream",
     "text": [
      "Accuracy = 0.721\n",
      "F-1 score = 0.724\n"
     ]
    }
   ],
   "source": [
    "scores = cross_val_score(dtree, x, y, cv = 10)\n",
    "f1_scores = cross_val_score(dtree, x, y, scoring = 'f1', cv = 10)\n",
    "\n",
    "print(f'Accuracy = {round(scores.mean(),3)}')\n",
    "print(f'F-1 score = {round(f1_scores.mean(),3)}')"
   ]
  },
  {
   "cell_type": "code",
   "execution_count": 23,
   "metadata": {},
   "outputs": [
    {
     "name": "stdout",
     "output_type": "stream",
     "text": [
      "Accuracy = 0.717\n",
      "F-1 score = 0.716\n"
     ]
    }
   ],
   "source": [
    "scores = cross_val_score(rf, x, y, cv = 10)\n",
    "f1_scores = cross_val_score(rf, x, y, scoring = 'f1', cv = 10)\n",
    "\n",
    "print(f'Accuracy = {round(scores.mean(),3)}')\n",
    "print(f'F-1 score = {round(f1_scores.mean(),3)}')"
   ]
  },
  {
   "cell_type": "code",
   "execution_count": 24,
   "metadata": {},
   "outputs": [
    {
     "name": "stdout",
     "output_type": "stream",
     "text": [
      "Accuracy = 0.677\n",
      "F-1 score = 0.679\n"
     ]
    }
   ],
   "source": [
    "scores = cross_val_score(knn, x, y, cv = 10)\n",
    "f1_scores = cross_val_score(knn, x, y, scoring = 'f1', cv = 10)\n",
    "\n",
    "print(f'Accuracy = {round(scores.mean(),3)}')\n",
    "print(f'F-1 score = {round(f1_scores.mean(),3)}')"
   ]
  },
  {
   "cell_type": "markdown",
   "metadata": {},
   "source": [
    "Logistic regression performed the best taking into consideration f1 score and accuracy."
   ]
  },
  {
   "cell_type": "markdown",
   "metadata": {},
   "source": [
    "# Conclusion"
   ]
  },
  {
   "cell_type": "markdown",
   "metadata": {},
   "source": [
    "Logistic regression is the best model to fit our data therefor it's the one to be used out of all tested models."
   ]
  }
 ],
 "metadata": {
  "kernelspec": {
   "display_name": "Python 3",
   "language": "python",
   "name": "python3"
  },
  "language_info": {
   "codemirror_mode": {
    "name": "ipython",
    "version": 3
   },
   "file_extension": ".py",
   "mimetype": "text/x-python",
   "name": "python",
   "nbconvert_exporter": "python",
   "pygments_lexer": "ipython3",
   "version": "3.8.3"
  }
 },
 "nbformat": 4,
 "nbformat_minor": 4
}
