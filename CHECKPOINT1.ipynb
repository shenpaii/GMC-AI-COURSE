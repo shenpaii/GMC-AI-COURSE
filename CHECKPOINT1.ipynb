{
 "cells": [
  {
   "cell_type": "markdown",
   "metadata": {},
   "source": [
    "Question 1"
   ]
  },
  {
   "cell_type": "code",
   "execution_count": null,
   "metadata": {},
   "outputs": [],
   "source": [
    "for c in range(2000,3201):\n",
    "    if (c % 7 ==0) and (c % 5 !=0):\n",
    "        print(c,end=\", \")"
   ]
  },
  {
   "cell_type": "markdown",
   "metadata": {},
   "source": [
    "Question 2"
   ]
  },
  {
   "cell_type": "code",
   "execution_count": null,
   "metadata": {},
   "outputs": [],
   "source": [
    "n=int(input(\"CALCULATING FACTORIAL OF: \"))\n",
    "f=1\n",
    "\n",
    "if n == 0:\n",
    "    f\n",
    "else:\n",
    "    for i in range(1,n+1):\n",
    "        f=f*i\n",
    "\n",
    "print(\"\\n{}! = {}\".format(n,f))"
   ]
  },
  {
   "cell_type": "code",
   "execution_count": null,
   "metadata": {},
   "outputs": [],
   "source": [
    "def fact(a):\n",
    "    if a == 0:\n",
    "        return 1\n",
    "    else:\n",
    "        return a * fact(a-1)\n",
    "\n",
    "z=int(input(\"CALCULATING FACTORIAL OF: \"))\n",
    "print(\"\\n{}! = {}\".format(n,fact(z)))"
   ]
  },
  {
   "cell_type": "markdown",
   "metadata": {},
   "source": [
    "Question 3"
   ]
  },
  {
   "cell_type": "code",
   "execution_count": null,
   "metadata": {},
   "outputs": [],
   "source": [
    "n=int(input(\"ENTER AN INTEGER: \"))\n",
    "dic={}\n",
    "\n",
    "for i in range(1,n+1):\n",
    "    dic[i]=i*i\n",
    "\n",
    "print(dic)"
   ]
  },
  {
   "cell_type": "markdown",
   "metadata": {},
   "source": [
    "Question 4"
   ]
  },
  {
   "cell_type": "code",
   "execution_count": null,
   "metadata": {},
   "outputs": [],
   "source": [
    "import math\n",
    "\n",
    "D=input(\"ENTER D VALUES: \").split(\",\")\n",
    "C=50\n",
    "H=30\n",
    "\n",
    "for i in range(len(D)):\n",
    "\tprint(round(math.sqrt((2*C*int(D[i])/H))),end=\",\")"
   ]
  },
  {
   "cell_type": "markdown",
   "metadata": {},
   "source": [
    "Question 5"
   ]
  },
  {
   "cell_type": "code",
   "execution_count": null,
   "metadata": {},
   "outputs": [],
   "source": [
    "def del_char(str,x):\n",
    "\t\n",
    "\tls=list(str)\n",
    "\t\n",
    "\tls[x-1]=\"\"\n",
    "\t\n",
    "\treturn \"\".join(ls)\n",
    "    \n",
    "str=[]\n",
    "while str==[]:\n",
    "\tstr=input(\"ENTER A STRING: \")\n",
    "\t\n",
    "n=0\n",
    "while n not in range(1,len(str)+1):\n",
    "\tn=int(input(\"ENTER CHARACTER POSITION: \"))\n",
    "\n",
    "print(del_char(str,n))"
   ]
  },
  {
   "cell_type": "markdown",
   "metadata": {},
   "source": [
    "Question 6"
   ]
  },
  {
   "cell_type": "code",
   "execution_count": null,
   "metadata": {},
   "outputs": [],
   "source": [
    "txt=\"g fmnc wms bgblr rpylqjyrc gr zw fylb. rfyrq ufyr amknsrcpq ypc dmp. bmgle gr gl zw fylb gq glcddgagclr ylb rfyr'q ufw rfgq rcvr gq qm jmle. sqgle qrpgle.kyicrpylq() gq pcamkkclbcb. lmu ynnjw ml rfc spj.\"\n",
    "\n",
    "print(txt.translate(str.maketrans(\"abcdefghijklmnopqrstuvwxyz\", \"cdefghijklmnopqrstuvwxyzab\")))"
   ]
  },
  {
   "cell_type": "markdown",
   "metadata": {},
   "source": [
    "Question 7"
   ]
  },
  {
   "cell_type": "code",
   "execution_count": null,
   "metadata": {},
   "outputs": [],
   "source": [
    "import numpy as np\n",
    "\n",
    "arr=np.array([[0,1],[2,3],[4,5]])\n",
    "\n",
    "print(arr.tolist(),\"\\n\")"
   ]
  },
  {
   "cell_type": "markdown",
   "metadata": {},
   "source": [
    "Question 8"
   ]
  },
  {
   "cell_type": "code",
   "execution_count": null,
   "metadata": {},
   "outputs": [],
   "source": [
    "a1=np.array([0,1,2])\n",
    "a2=np.array([2,1,0])\n",
    "\n",
    "print(np.cov(a1,a2))"
   ]
  }
 ],
 "metadata": {
  "language_info": {
   "codemirror_mode": {
    "name": "ipython",
    "version": 3
   },
   "file_extension": ".py",
   "mimetype": "text/x-python",
   "name": "python",
   "nbconvert_exporter": "python",
   "pygments_lexer": "ipython3",
   "version": "3.8.2-final"
  },
  "orig_nbformat": 2,
  "kernelspec": {
   "name": "python38264bit5f76b7e623cb49be9f76a076096cd37f",
   "display_name": "Python 3.8.2 64-bit"
  }
 },
 "nbformat": 4,
 "nbformat_minor": 2
}